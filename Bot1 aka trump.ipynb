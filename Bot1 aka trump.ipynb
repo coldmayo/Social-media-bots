{
 "cells": [
  {
   "cell_type": "code",
   "execution_count": null,
   "metadata": {},
   "outputs": [],
   "source": [
    "import tweepy\n",
    "import random\n",
    "# Authenticate to Twitter\n",
    "auth = tweepy.OAuthHandler(\"qHX6H0JxdYOLUNNVzRTlNKjxh\", \"WeaoKeawpEHoMqeqqBZLTzg0rEs7N9ClAQrJb5eYu3Y8qj9aWq\")\n",
    "auth.set_access_token(\"1178640755533008896-YGSdBA7TqnD08J2IZaUcMdw25fkG5z\", \"T0nrDSFxG6SVPQ8OBmvHaNs7KgnD3Soa96iyNE0mWZPz2\")\n",
    "\n",
    "# Create API object\n",
    "api = tweepy.API(auth)\n",
    "tweets=api.user_timeline(screen_name=\"realDonaldTrump\")\n",
    "firstTweet=tweets[0]\n",
    "for tweet in tweets:\n",
    "    if tweet.text[0:2] != \"RT\":\n",
    "        for i in range(10):\n",
    "            api.update_with_media('Bot1Image.png','@realDonaldTrump {}'.format('ur sus lol'),firstTweet.id)\n"
   ]
  },
  {
   "cell_type": "code",
   "execution_count": null,
   "metadata": {},
   "outputs": [],
   "source": []
  }
 ],
 "metadata": {
  "kernelspec": {
   "display_name": "Python 3",
   "language": "python",
   "name": "python3"
  },
  "language_info": {
   "codemirror_mode": {
    "name": "ipython",
    "version": 3
   },
   "file_extension": ".py",
   "mimetype": "text/x-python",
   "name": "python",
   "nbconvert_exporter": "python",
   "pygments_lexer": "ipython3",
   "version": "3.7.4"
  }
 },
 "nbformat": 4,
 "nbformat_minor": 2
}
